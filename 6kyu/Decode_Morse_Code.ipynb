{
 "cells": [
  {
   "cell_type": "markdown",
   "metadata": {},
   "source": [
    "# Decode the Morse code\n",
    "level: 6kyu  \n",
    "language: Python  \n",
    "link: https://www.codewars.com/kata/decode-the-morse-code/python  \n",
    "\n",
    "## Instructions\n",
    "In this kata you have to write a simple Morse code decoder. While the Morse code is now mostly superceded by voice and digital \n",
    "data communication channels, it still has its use in some applications around the world.\n",
    "The Morse code encodes every character as a sequence of \"dots\" and \"dashes\". For example, the letter A is coded as ·−, \n",
    "letter Q is coded as −−·−, and digit 1 is coded as ·−−−−. The Morse code is case-insensitive, traditionally capital letters are used. \n",
    "When the message is written in Morse code, a single space is used to separate the character codes and 3 spaces are \n",
    "used to separate words.\n",
    "For example, the message HEY JUDE in Morse code is ···· · −·−−   ·−−− ··− −·· ·.\n",
    "\n",
    "NOTE: Extra spaces before or after the code have no meaning and should be ignored.\n",
    "\n",
    "In addition to letters, digits and some punctuation, there are some special service codes, the most notorious of those is \n",
    "the international distress signal SOS (that was first issued by Titanic), that is coded as ···−−−···. These special codes are \n",
    "treated as single special characters, and usually are transmitted as separate words.\n",
    "\n",
    "Your task is to implement a function that would take the morse code as input and return a decoded human-readable string.\n",
    "\n",
    "For example:"
   ]
  },
  {
   "cell_type": "code",
   "execution_count": null,
   "metadata": {},
   "outputs": [],
   "source": [
    "#should return \"HEY JUDE\"\n",
    "decodeMorse('.... . -.--   .--- ..- -.. .')"
   ]
  },
  {
   "cell_type": "markdown",
   "metadata": {},
   "source": [
    "NOTE: For coding purposes you have to use ASCII characters . and -, not Unicode characters.\n",
    "\n",
    "The Morse code table is preloaded for you as a dictionary, feel free to use it:\n",
    "\n",
    "  Coffeescript/C++/Go/JavaScript/PHP/Python/Ruby/TypeScript: MORSE_CODE['.--']"
   ]
  },
  {
   "cell_type": "code",
   "execution_count": null,
   "metadata": {},
   "outputs": [],
   "source": [
    "def decodeMorse(morse_code):\n",
    "    #change input unicode characters to ASCII\n",
    "    morse_code = morse_code.replace('·', '.').replace('−', '-').strip() #strip removes white spaces at edges of string\n",
    "    decoded_msg = \"\"\n",
    "    for word in morse_code.split(\"   \"): #split words\n",
    "        for char in word.split() : #split characters\n",
    "            decoded_msg += MORSE_CODE[char]\n",
    "        decoded_msg += \" \" #add space in-between words\n",
    "    return decoded_msg[:-1] #skips the last space"
   ]
  }
 ],
 "metadata": {
  "kernelspec": {
   "display_name": "Python 3",
   "language": "python",
   "name": "python3"
  },
  "language_info": {
   "codemirror_mode": {
    "name": "ipython",
    "version": 3
   },
   "file_extension": ".py",
   "mimetype": "text/x-python",
   "name": "python",
   "nbconvert_exporter": "python",
   "pygments_lexer": "ipython3",
   "version": "3.7.6"
  }
 },
 "nbformat": 4,
 "nbformat_minor": 4
}
