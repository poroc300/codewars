{
 "cells": [
  {
   "cell_type": "markdown",
   "metadata": {},
   "source": [
    "# Are They the Same\n",
    "level: 6kyu  \n",
    "language: Python  \n",
    "link: https://www.codewars.com/kata/are-they-the-same/python\n",
    "\n",
    "## Introduction\n",
    "Given two arrays a and b write a function comp(a, b) (compSame(a, b) in Clojure) that checks whether the two arrays have the \"same\" elements, with the same multiplicities. \"Same\" means, here, that the elements in b are the elements in a squared, regardless of the order."
   ]
  },
  {
   "cell_type": "code",
   "execution_count": null,
   "metadata": {},
   "outputs": [],
   "source": [
    "#Examples\n",
    "#Valid arrays\n",
    "a = [121, 144, 19, 161, 19, 144, 19, 11]  \n",
    "b = [121, 14641, 20736, 361, 25921, 361, 20736, 361]"
   ]
  },
  {
   "cell_type": "markdown",
   "metadata": {},
   "source": [
    "comp(a, b) returns true because in b 121 is the square of 11, 14641 is the square of 121, 20736 the square of 144, 361 the square of 19, 25921 the square of 161, and so on. It gets obvious if we write b's elements in terms of squares:"
   ]
  },
  {
   "cell_type": "code",
   "execution_count": null,
   "metadata": {},
   "outputs": [],
   "source": [
    "a = [121, 144, 19, 161, 19, 144, 19, 11] \n",
    "b = [11*11, 121*121, 144*144, 19*19, 161*161, 19*19, 144*144, 19*19]"
   ]
  },
  {
   "cell_type": "markdown",
   "metadata": {},
   "source": [
    "Invalid arrays\n",
    "If we change the first number to something else, comp may not return true anymore:"
   ]
  },
  {
   "cell_type": "code",
   "execution_count": null,
   "metadata": {},
   "outputs": [],
   "source": [
    "a = [121, 144, 19, 161, 19, 144, 19, 11]  \n",
    "b = [132, 14641, 20736, 361, 25921, 361, 20736, 361]"
   ]
  },
  {
   "cell_type": "markdown",
   "metadata": {},
   "source": [
    "comp(a,b) returns false because in b 132 is not the square of any number of a."
   ]
  },
  {
   "cell_type": "code",
   "execution_count": null,
   "metadata": {},
   "outputs": [],
   "source": [
    "a = [121, 144, 19, 161, 19, 144, 19, 11]  \n",
    "b = [121, 14641, 20736, 36100, 25921, 361, 20736, 361]"
   ]
  },
  {
   "cell_type": "markdown",
   "metadata": {},
   "source": [
    "comp(a,b) returns false because in b 36100 is not the square of any number of a.\n",
    "\n",
    "Remarks\n",
    "a or b might be [] (all languages except R, Shell). a or b might be nil or null or None or nothing (except in Haskell, Elixir, C++, Rust, R, Shell, PureScript).\n",
    "\n",
    "If a or b are nil (or null or None), the problem doesn't make sense so return false.\n",
    "\n",
    "If a or b are empty then the result is self-evident.\n",
    "\n",
    "a or b are empty or not empty lists."
   ]
  },
  {
   "cell_type": "markdown",
   "metadata": {},
   "source": [
    "## Solution"
   ]
  },
  {
   "cell_type": "code",
   "execution_count": null,
   "metadata": {},
   "outputs": [],
   "source": [
    "import numpy as np\n",
    "def comp(array1, array2):\n",
    "    # convert lists to np.arrays\n",
    "    a1, a2 = np.array(array1), np.array(array2)\n",
    "    \n",
    "    #check if there are any None\n",
    "    try:\n",
    "        if np.any(a == None or b == None):\n",
    "            return False \n",
    "    #in case of absence of any None\n",
    "    except:\n",
    "        if a1.size == a2.size:\n",
    "            return np.all (np.sort(a1**2) == np.sort(a2))\n",
    "        return False\n",
    "\n",
    "# def comp(array1, array2):\n",
    "#     try:\n",
    "#         #square array1\n",
    "#         sq_array1 = list(map(lambda x: x**2, array1))\n",
    "#         return sorted(sq_array1) == sorted(array2)\n",
    "#     except:\n",
    "#         return False #accounts when input is None     "
   ]
  }
 ],
 "metadata": {
  "kernelspec": {
   "display_name": "Python 3",
   "language": "python",
   "name": "python3"
  },
  "language_info": {
   "codemirror_mode": {
    "name": "ipython",
    "version": 3
   },
   "file_extension": ".py",
   "mimetype": "text/x-python",
   "name": "python",
   "nbconvert_exporter": "python",
   "pygments_lexer": "ipython3",
   "version": "3.7.6"
  }
 },
 "nbformat": 4,
 "nbformat_minor": 4
}
