{
 "cells": [
  {
   "cell_type": "markdown",
   "metadata": {},
   "source": [
    "# Shortest steps to a number\n",
    "level: 6kyu\n",
    "language: Python\n",
    "link: https://www.codewars.com/kata/5cd4aec6abc7260028dcd942\n",
    "\n",
    "## Instructions\n",
    "Given a number, num, return the shortest amount of steps it would take from 1, to land exactly on that number.\n",
    "\n",
    "Description:  \n",
    "A step is defined as:\n",
    "\n",
    "Adding 1 to the number: num += 1  \n",
    "Doubling the number: num *= 2  \n",
    "You will always start from the number 1 and you will have to return the shortest count of steps it would take to land exactly \n",
    "on that number.\n",
    "\n",
    "1 <= num <= 10000\n",
    "\n",
    "Examples:\n",
    "\n",
    "num == 3 would return 2 steps:\n",
    "\n",
    "1 -- +1 --> 2:        1 step  \n",
    "2 -- +1 --> 3:        2 steps\n",
    "\n",
    "2 steps  \n",
    "num == 12 would return 4 steps:  \n",
    "\n",
    "1 -- +1 --> 2:        1 step  \n",
    "2 -- +1 --> 3:        2 steps  \n",
    "3 -- x2 --> 6:        3 steps  \n",
    "6 -- x2 --> 12:       4 steps  \n",
    "\n",
    "4 steps  \n",
    "num == 16 would return 4 steps:  \n",
    "\n",
    "1 -- +1 --> 2:        1 step  \n",
    "2 -- x2 --> 4:        2 steps  \n",
    "4 -- x2 --> 8:        3 steps  \n",
    "8 -- x2 --> 16:       4 steps  \n",
    "\n",
    "4 steps  "
   ]
  },
  {
   "cell_type": "code",
   "execution_count": null,
   "metadata": {},
   "outputs": [],
   "source": [
    "def shortest_steps_to_num(num):\n",
    "    #test case\n",
    "    if num == 1:\n",
    "        return 0\n",
    "        \n",
    "    #if the num is odd, subtract 1\n",
    "    elif num % 2 != 0:\n",
    "        return 1 + shortest_steps_to_num(num-1) \n",
    "    \n",
    "    #if num is even, divide by 2\n",
    "    else:\n",
    "        return 1 + shortest_steps_to_num(num//2) "
   ]
  }
 ],
 "metadata": {
  "kernelspec": {
   "display_name": "Python 3",
   "language": "python",
   "name": "python3"
  },
  "language_info": {
   "codemirror_mode": {
    "name": "ipython",
    "version": 3
   },
   "file_extension": ".py",
   "mimetype": "text/x-python",
   "name": "python",
   "nbconvert_exporter": "python",
   "pygments_lexer": "ipython3",
   "version": "3.7.6"
  }
 },
 "nbformat": 4,
 "nbformat_minor": 4
}
