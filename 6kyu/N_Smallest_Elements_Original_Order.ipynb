{
 "cells": [
  {
   "cell_type": "markdown",
   "metadata": {},
   "source": [
    "# N smallest elements in original order\n",
    "level: 6kyu  \n",
    "language: Python  \n",
    "link: https://www.codewars.com/kata/5aec1ed7de4c7f3517000079  \n",
    "\n",
    "## Instructions\n",
    "Your task is to write a function that does just what the title suggests (so, fair warning, be aware that you \n",
    "are not getting out of it just throwing a lame bas sorting method there) with an array/list/vector of integers and \n",
    "the expected number n of smallest elements to return.\n",
    "\n",
    "Also:\n",
    "\n",
    "the number of elements to be returned cannot be higher than the array/list/vector length;\n",
    "elements can be duplicated;\n",
    "in case of duplicates, just return them according to the original order (see third example for more clarity).\n",
    "Same examples and more in the test cases:\n",
    "\n",
    "first_n_smallest([1,2,3,4,5],3) == [1,2,3]  \n",
    "first_n_smallest([5,4,3,2,1],3) == [3,2,1]  \n",
    "first_n_smallest([1,2,3,4,1],3) == [1,2,1]  \n",
    "first_n_smallest([1,2,3,-4,0],3) == [1,-4,0]  \n",
    "first_n_smallest([1,2,3,4,5],0) == []  "
   ]
  },
  {
   "cell_type": "code",
   "execution_count": null,
   "metadata": {},
   "outputs": [],
   "source": [
    "import numpy as np\n",
    "def first_n_smallest(arr, n):\n",
    "    # convert to np.array and make copy\n",
    "    arr = np.array(arr, dtype = \"float64\")\n",
    "    arr_copy = np.copy(arr)\n",
    "    out = []\n",
    "    \n",
    "    # find the n smallest values\n",
    "    for _ in range(n):\n",
    "        idx = np.nanargmin(arr_copy)  # get index of smallest value\n",
    "        out += [idx]\n",
    "        arr_copy[idx] = np.nan #replace by NaN\n",
    "    \n",
    "    # sort indexes and return array\n",
    "    return arr[sorted(out)]"
   ]
  }
 ],
 "metadata": {
  "kernelspec": {
   "display_name": "Python 3",
   "language": "python",
   "name": "python3"
  },
  "language_info": {
   "codemirror_mode": {
    "name": "ipython",
    "version": 3
   },
   "file_extension": ".py",
   "mimetype": "text/x-python",
   "name": "python",
   "nbconvert_exporter": "python",
   "pygments_lexer": "ipython3",
   "version": "3.7.6"
  }
 },
 "nbformat": 4,
 "nbformat_minor": 4
}
