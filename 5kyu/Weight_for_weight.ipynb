{
 "cells": [
  {
   "cell_type": "markdown",
   "metadata": {},
   "source": [
    "# Weight for weight\n",
    "level: 5kyu  \n",
    "language: Python  \n",
    "link: https://www.codewars.com/kata/55e7280b40e1c4a06d0000aa  \n",
    "\n",
    "## Instructions\n",
    "My friend John and I are members of the \"Fat to Fit Club (FFC)\". John is worried because each month a list with the weights of members \n",
    "is published and each month he is the last on the list which means he is the heaviest.\n",
    "\n",
    "I am the one who establishes the list so I told him: \"Don't worry any more, I will modify the order of the list\". It was decided \n",
    "to attribute a \"weight\" to numbers. The weight of a number will be from now on the sum of its digits.\n",
    "\n",
    "For example 99 will have \"weight\" 18, 100 will have \"weight\" 1 so in the list 100 will come before 99. Given a string with the \n",
    "weights of FFC members in normal order can you give this string ordered by \"weights\" of these numbers?\n",
    "\n",
    "Example:  \n",
    "\"56 65 74 100 99 68 86 180 90\" ordered by numbers weights becomes: \"100 180 90 56 65 74 68 86 99\"\n",
    "\n",
    "When two numbers have the same \"weight\", let us class them as if they were strings (alphabetical ordering) and not numbers: \n",
    "100 is before 180 because its \"weight\" (1) is less than the one of 180 (9) and 180 is before 90 since, having the same \"weight\" \n",
    "(9), it comes before as a string.\n",
    "\n",
    "All numbers in the list are positive numbers and the list can be empty.\n",
    "\n",
    "Notes  \n",
    "it may happen that the input string have leading, trailing whitespaces and more than a unique whitespace between two consecutive \n",
    "numbers\n",
    "Don't modify the input"
   ]
  },
  {
   "cell_type": "code",
   "execution_count": null,
   "metadata": {},
   "outputs": [],
   "source": [
    "def sum_digits(n):\n",
    "   '''n is an int'''\n",
    "   sum_dig = 0 \n",
    "   #loop will break when n=0\n",
    "   while n:\n",
    "       sum_dig = sum_dig + n % 10 ##add rightmost digit\n",
    "       n = n//10 #remove rightmost digit\n",
    "   return sum_dig \n",
    "\n",
    "def order_weight(s):\n",
    "    temp = s.split() #remove white spaces\n",
    "    lst = [(sum_digits(int(x)), x) for x in temp] #(score, string)\n",
    "    \n",
    "    #sort list by score and then by string\n",
    "    adj_weights = sorted(lst, key=lambda x: (x[0],x[1]))\n",
    "    return \" \".join([x[1] for x in adj_weights])"
   ]
  }
 ],
 "metadata": {
  "kernelspec": {
   "display_name": "Python 3",
   "language": "python",
   "name": "python3"
  },
  "language_info": {
   "codemirror_mode": {
    "name": "ipython",
    "version": 3
   },
   "file_extension": ".py",
   "mimetype": "text/x-python",
   "name": "python",
   "nbconvert_exporter": "python",
   "pygments_lexer": "ipython3",
   "version": "3.7.6"
  }
 },
 "nbformat": 4,
 "nbformat_minor": 4
}
