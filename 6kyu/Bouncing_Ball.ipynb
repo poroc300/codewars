{
 "cells": [
  {
   "cell_type": "markdown",
   "metadata": {},
   "source": [
    "# Bouncing Balls\n",
    "level: 6kyu  \n",
    "language: Python  \n",
    "link: https://www.codewars.com/kata/5544c7a5cb454edb3c000047  \n",
    "\n",
    "## Instructions\n",
    "A child is playing with a ball on the nth floor of a tall building. The height of this floor, h, is known.\n",
    "He drops the ball out of the window. The ball bounces (for example), to two-thirds of its height (a bounce of 0.66).\n",
    "\n",
    "His mother looks out of a window 1.5 meters from the ground.\n",
    "\n",
    "How many times will the mother see the ball pass in front of her window (including when it's falling and bouncing?\n",
    "\n",
    "Three conditions must be met for a valid experiment:\n",
    "  - Float parameter \"h\" in meters must be greater than 0\n",
    "  - Float parameter \"bounce\" must be greater than 0 and less than 1\n",
    "  - Float parameter \"window\" must be less than h.\n",
    "  \n",
    "If all three conditions above are fulfilled, return a positive integer, otherwise return -1.\n",
    "\n",
    "Note:  \n",
    "The ball can only be seen if the height of the rebounding ball is strictly greater than the window parameter."
   ]
  },
  {
   "cell_type": "code",
   "execution_count": null,
   "metadata": {},
   "outputs": [],
   "source": [
    "def bouncingBall(h, bounce, window):\n",
    "    bounce = float(bounce)\n",
    "    \n",
    "    #check if requirements are met\n",
    "    if not ((h > 0) and (0 < bounce < 1) and (window < h)):\n",
    "        return -1\n",
    "    \n",
    "    count = 1 #the ball should pass at least one time when it falls the first time\n",
    "    while h > window:\n",
    "        h *= bounce        \n",
    "        count += 2 if h > window else 0 #bounce and falls, but when lower than window, is not seen by the mother\n",
    "    return count"
   ]
  }
 ],
 "metadata": {
  "kernelspec": {
   "display_name": "Python 3",
   "language": "python",
   "name": "python3"
  },
  "language_info": {
   "codemirror_mode": {
    "name": "ipython",
    "version": 3
   },
   "file_extension": ".py",
   "mimetype": "text/x-python",
   "name": "python",
   "nbconvert_exporter": "python",
   "pygments_lexer": "ipython3",
   "version": "3.7.6"
  }
 },
 "nbformat": 4,
 "nbformat_minor": 4
}
