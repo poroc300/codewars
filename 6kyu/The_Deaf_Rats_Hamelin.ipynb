{
 "cells": [
  {
   "cell_type": "markdown",
   "metadata": {},
   "source": [
    "# The Deaf Rats of Hamelin\n",
    "level: 6kyu  \n",
    "language: Python  \n",
    "link: https://www.codewars.com/kata/598106cb34e205e074000031  \n",
    "\n",
    "## Instructions\n",
    "Story  \n",
    "The Pied Piper has been enlisted to play his magical tune and coax all the rats out of town.\n",
    "\n",
    "But some of the rats are deaf and are going the wrong way!\n",
    "\n",
    "Kata Task  \n",
    "How many deaf rats are there?\n",
    "\n",
    "Legend  \n",
    "P = The Pied Piper  \n",
    "O~ = Rat going left  \n",
    "~O = Rat going right  \n",
    "Example  \n",
    "ex1 ~O~O~O~O P has 0 deaf rats  \n",
    "ex2 P O~ O~ ~O O~ has 1 deaf rat  \n",
    "ex3 ~O~O~O~OP~O~OO~ has 2 deaf rats  "
   ]
  },
  {
   "cell_type": "code",
   "execution_count": null,
   "metadata": {},
   "outputs": [],
   "source": [
    "def count_deaf_rats(town): \n",
    "    #remove white spaces\n",
    "    town = town.replace(\" \",\"\")\n",
    "    \n",
    "    #get index of Pied Piper\n",
    "    idx = town.index(\"P\")\n",
    "    \n",
    "    #get strings of rats to left and right of Piper\n",
    "    left, right = town[:idx], town[idx+1:]\n",
    "    \n",
    "    #rats to left are going to Piper if \"tails\" are in even index\n",
    "    #rats to right are going to Piper if \"tails\" are in odd index\n",
    "    idx_left = [i for i, char in enumerate(left) if i%2 != 0 and char==\"~\"]\n",
    "    idx_right = [i for i, char in enumerate(right) if i%2 == 0 and char==\"~\"]\n",
    "    \n",
    "    #return no. deaf rats\n",
    "    return len(idx_left) + len(idx_right)\n",
    "\n",
    "#def count_deaf_rats(town):\n",
    "#    return town.replace(' ', '')[::2].count('O')"
   ]
  }
 ],
 "metadata": {
  "kernelspec": {
   "display_name": "Python 3",
   "language": "python",
   "name": "python3"
  },
  "language_info": {
   "codemirror_mode": {
    "name": "ipython",
    "version": 3
   },
   "file_extension": ".py",
   "mimetype": "text/x-python",
   "name": "python",
   "nbconvert_exporter": "python",
   "pygments_lexer": "ipython3",
   "version": "3.7.6"
  }
 },
 "nbformat": 4,
 "nbformat_minor": 4
}
