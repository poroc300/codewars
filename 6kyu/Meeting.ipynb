{
 "cells": [
  {
   "cell_type": "markdown",
   "metadata": {},
   "source": [
    "# Meeting\n",
    "level: 6kyu  \n",
    "language: Python  \n",
    "\n",
    "## Instructions\n",
    "\n",
    "John has invited some friends. His list is:\n",
    "\n",
    "s = \"Fred:Corwill;Wilfred:Corwill;Barney:Tornbull;Betty:Tornbull;Bjon:Tornbull;Raphael:Corwill;Alfred:Corwill\";\n",
    "\n",
    "Could you make a program that\n",
    "  - makes this string uppercase\n",
    "  - gives it sorted in alphabetical order by last name.\n",
    "\n",
    "When the last names are the same, sort them by first name. Last name and first name of a guest come in the result between parentheses separated by a comma.\n",
    "\n",
    "So the result of function meeting(s) will be:\n",
    "\"(CORWILL, ALFRED)(CORWILL, FRED)(CORWILL, RAPHAEL)(CORWILL, WILFRED)(TORNBULL, BARNEY)(TORNBULL, BETTY)(TORNBULL, BJON)\"\n",
    "\n",
    "It can happen that in two distinct families with the same family name two people have the same first name too."
   ]
  },
  {
   "cell_type": "code",
   "execution_count": null,
   "metadata": {},
   "outputs": [],
   "source": [
    "def meeting(s):\n",
    "    ls=s.upper().split(\";\")  #create list with full names with capital letters\n",
    "    output = []\n",
    "    for friend in ls:\n",
    "        idx = friend.index(\":\") + 1 #get index where surname starts\n",
    "        name, surname = friend[:idx-1], friend[idx:] #extract name, surname from string         \n",
    "        output.append(\"({}, {})\".format(surname, name)) \n",
    "    return \"\".join(sorted(output))"
   ]
  }
 ],
 "metadata": {
  "kernelspec": {
   "display_name": "Python 3",
   "language": "python",
   "name": "python3"
  },
  "language_info": {
   "codemirror_mode": {
    "name": "ipython",
    "version": 3
   },
   "file_extension": ".py",
   "mimetype": "text/x-python",
   "name": "python",
   "nbconvert_exporter": "python",
   "pygments_lexer": "ipython3",
   "version": "3.7.6"
  }
 },
 "nbformat": 4,
 "nbformat_minor": 4
}
