{
 "cells": [
  {
   "cell_type": "markdown",
   "metadata": {},
   "source": [
    "# Directions Reduction\n",
    "level: 5kyu  \n",
    "language: Python  \n",
    "link: https://www.codewars.com/kata/550f22f4d758534c1100025a  \n",
    "\n",
    "## Instructions\n",
    "Once upon a time, on a way through the old wild west,…  … a man was given directions to go from one point to another. The directions were \"NORTH\", \"SOUTH\", \"WEST\", \"EAST\". Clearly \"NORTH\" and \"SOUTH\" are opposite, \"WEST\" and \"EAST\" too. Going to one direction and coming back the opposite direction is a \n",
    "needless effort. Since this is the wild west, with dreadfull weather and not much water, it's important to save yourself some \n",
    "energy, otherwise you might die of thirst!\n",
    "\n",
    "How I crossed the desert the smart way.\n",
    "The directions given to the man are, for example, the following (depending on the language):\n",
    "\n",
    "[\"NORTH\", \"SOUTH\", \"SOUTH\", \"EAST\", \"WEST\", \"NORTH\", \"WEST\"].\n",
    "\n",
    "or\n",
    "\n",
    "{ \"NORTH\", \"SOUTH\", \"SOUTH\", \"EAST\", \"WEST\", \"NORTH\", \"WEST\" };\n",
    "\n",
    "or\n",
    "\n",
    "[North, South, South, East, West, North, West]\n",
    "\n",
    "You can immediatly see that going \"NORTH\" and then \"SOUTH\" is not reasonable, better stay to the same place! So the task is to \n",
    "give to the man a simplified version of the plan. A better plan in this case is simply:\n",
    "\n",
    "[\"WEST\"]\n",
    "\n",
    "or\n",
    "\n",
    "{ \"WEST\" }\n",
    "\n",
    "or\n",
    "\n",
    "[West]\n",
    "\n",
    "Other examples:  \n",
    "In [\"NORTH\", \"SOUTH\", \"EAST\", \"WEST\"], the direction \"NORTH\" + \"SOUTH\" is going north and coming back right away. What a waste of time! Better to do nothing.\n",
    "\n",
    "The path becomes [\"EAST\", \"WEST\"], now \"EAST\" and \"WEST\" annihilate each other, therefore, the final result is [] (nil in Clojure).\n",
    "\n",
    "In [\"NORTH\", \"EAST\", \"WEST\", \"SOUTH\", \"WEST\", \"WEST\"], \"NORTH\" and \"SOUTH\" are not directly opposite but they become directly \n",
    "opposite after the reduction of \"EAST\" and \"WEST\" so the whole path is reducible to [\"WEST\", \"WEST\"].\n",
    "\n",
    "Task  \n",
    "Write a function dirReduc which will take an array of strings and returns an array of strings with the needless directions \n",
    "removed (W<->E or S<->N side by side).\n",
    "\n",
    "The Haskell version takes a list of directions with data Direction = North | East | West | South.\n",
    "\n",
    "The Clojure version returns nil when the path is reduced to nothing.\n",
    "\n",
    "The Rust version takes a slice of enum Direction {NORTH, SOUTH, EAST, WEST}.\n",
    "\n",
    "See more examples in \"Sample Tests:\"\n",
    "\n",
    "Notes  \n",
    "Not all paths can be made simpler. The path [\"NORTH\", \"WEST\", \"SOUTH\", \"EAST\"] is not reducible. \"NORTH\" and \"WEST\", \n",
    "\"WEST\" and \"SOUTH\", \"SOUTH\" and \"EAST\" are not directly opposite of each other and can't become such. Hence the result path \n",
    "is itself : [\"NORTH\", \"WEST\", \"SOUTH\", \"EAST\"]."
   ]
  },
  {
   "cell_type": "code",
   "execution_count": null,
   "metadata": {},
   "outputs": [],
   "source": [
    "def dirReduc(plan):\n",
    "    opposite = {\"NORTH\": \"SOUTH\", \"SOUTH\": \"NORTH\",\n",
    "                \"WEST\": \"EAST\", \"EAST\": \"WEST\"}\n",
    "    \n",
    "    new_plan = []\n",
    "    for path in plan:\n",
    "        if new_plan and new_plan[-1] == opposite[path]:\n",
    "            new_plan.pop() \n",
    "        else:\n",
    "            new_plan.append(path)\n",
    "            \n",
    "    return new_plan"
   ]
  },
  {
   "cell_type": "code",
   "execution_count": null,
   "metadata": {},
   "outputs": [],
   "source": []
  }
 ],
 "metadata": {
  "kernelspec": {
   "display_name": "Python 3",
   "language": "python",
   "name": "python3"
  },
  "language_info": {
   "codemirror_mode": {
    "name": "ipython",
    "version": 3
   },
   "file_extension": ".py",
   "mimetype": "text/x-python",
   "name": "python",
   "nbconvert_exporter": "python",
   "pygments_lexer": "ipython3",
   "version": "3.7.6"
  }
 },
 "nbformat": 4,
 "nbformat_minor": 4
}
