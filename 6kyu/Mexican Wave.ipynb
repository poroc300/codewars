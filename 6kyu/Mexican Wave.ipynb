{
 "cells": [
  {
   "cell_type": "markdown",
   "metadata": {},
   "source": [
    "# Mexican Wave\n",
    "level: 6kyu  \n",
    "language: Python  \n",
    "link: https://www.codewars.com/kata/mexican-wave/python  \n",
    "\n",
    "## Instructions\n",
    "In this simple Kata your task is to create a function that turns a string into a Mexican Wave. You will be passed a string and \n",
    "you must return that string in an array where an uppercase letter is a person standing up.\n",
    "\n",
    "Rules\n",
    "1.  The input string will always be lower case but maybe empty.\n",
    "2.  If the character in the string is whitespace then pass over it as if it was an empty seat.\n",
    "\n",
    "Example  \n",
    "wave(\"hello\") => [\"Hello\", \"hEllo\", \"heLlo\", \"helLo\", \"hellO\"]"
   ]
  },
  {
   "cell_type": "code",
   "execution_count": null,
   "metadata": {},
   "outputs": [],
   "source": [
    "def wave(s):\n",
    "    output=[]\n",
    "    for i in range(len(s)):\n",
    "        if s[i].isalnum():\n",
    "            output.append(s[:i] + s[i].upper() + s[i+1:])\n",
    "    return output\n",
    "    # using list comprehension\n",
    "    # return [s[:i] + s[i].upper() + s[i+1:] for i in in range(len(s)) if s[i].isalnum()]"
   ]
  }
 ],
 "metadata": {
  "kernelspec": {
   "display_name": "Python 3",
   "language": "python",
   "name": "python3"
  },
  "language_info": {
   "codemirror_mode": {
    "name": "ipython",
    "version": 3
   },
   "file_extension": ".py",
   "mimetype": "text/x-python",
   "name": "python",
   "nbconvert_exporter": "python",
   "pygments_lexer": "ipython3",
   "version": "3.7.6"
  }
 },
 "nbformat": 4,
 "nbformat_minor": 4
}
