{
 "cells": [
  {
   "cell_type": "markdown",
   "metadata": {},
   "source": [
    "# Sum of Pairs\n",
    "level: 5kyu  \n",
    "language: Python  \n",
    "link: https://www.codewars.com/kata/sum-of-pairs/python  \n",
    "\n",
    "## Instructions\n",
    "Given a list of integers and a single sum value, return the first two values (parse from the left please) in order of \n",
    "appearance that add up to form the sum.\n",
    "\n",
    "sum_pairs([11, 3, 7, 5],         10)  \n",
    "              ^--^      3 + 7 = 10  \n",
    "== [3, 7]  \n",
    "\n",
    "sum_pairs([4, 3, 2, 3, 4],         6)  \n",
    "          ^-----^         4 + 2 = 6, indices: 0, 2 *  \n",
    "            ^-----^      3 + 3 = 6, indices: 1, 3  \n",
    "                ^-----^   2 + 4 = 6, indices: 2, 4  \n",
    "  * entire pair is earlier, and therefore is the correct answer == [4, 2]\n",
    "\n",
    "sum_pairs([0, 0, -2, 3], 2)\n",
    "  there are no pairs of values that can be added to produce 2.\n",
    "== None/nil/undefined (Based on the language)\n",
    "\n",
    "sum_pairs([10, 5, 2, 3, 7, 5],         10)  \n",
    "              ^-----------^   5 + 5 = 10, indices: 1, 5  \n",
    "                    ^--^      3 + 7 = 10, indices: 3, 4 *  \n",
    "  * entire pair is earlier, and therefore is the correct answer  \n",
    "== [3, 7]  \n",
    "\n",
    "Negative numbers and duplicate numbers can and will appear.\n",
    "\n",
    "NOTE: There will also be lists tested of lengths upwards of 10,000,000 elements. Be sure your code doesn't time out.\n"
   ]
  },
  {
   "cell_type": "code",
   "execution_count": null,
   "metadata": {},
   "outputs": [],
   "source": [
    "def sum_pairs(ints, s):\n",
    "    memo = set()\n",
    "    for n in ints:\n",
    "        if s - n in memo:\n",
    "            return [s - n, n]\n",
    "        cache.add(n)"
   ]
  }
 ],
 "metadata": {
  "kernelspec": {
   "display_name": "Python 3",
   "language": "python",
   "name": "python3"
  },
  "language_info": {
   "codemirror_mode": {
    "name": "ipython",
    "version": 3
   },
   "file_extension": ".py",
   "mimetype": "text/x-python",
   "name": "python",
   "nbconvert_exporter": "python",
   "pygments_lexer": "ipython3",
   "version": "3.7.6"
  }
 },
 "nbformat": 4,
 "nbformat_minor": 4
}
