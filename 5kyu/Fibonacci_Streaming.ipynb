{
 "cells": [
  {
   "cell_type": "markdown",
   "metadata": {},
   "source": [
    "# Fibonacci Streaming\n",
    "level: 5kyu  \n",
    "language: Python  \n",
    "link: https://www.codewars.com/kata/55695bc4f75bbaea5100016b\n",
    "\n",
    "## Instructions\n",
    "You're going to provide a needy programmer a utility method that generates an infinite sized, sequential IntStream \n",
    "(in TypeScript Iterator<number>, in Python generator) which contains all the numbers in a fibonacci sequence.\n",
    "A fibonacci sequence starts with two 1s. Every element afterwards is the sum of the two previous elements. See:\n",
    "#1, 1, 2, 3, 5, 8, 13, ..., 89, 144, 233, 377, ..."
   ]
  },
  {
   "cell_type": "code",
   "execution_count": null,
   "metadata": {},
   "outputs": [],
   "source": [
    "def all_fibonacci_numbers():\n",
    "    x,y = 0,1\n",
    "    while True:\n",
    "        yield y\n",
    "        x,y = y, x+y"
   ]
  }
 ],
 "metadata": {
  "kernelspec": {
   "display_name": "Python 3",
   "language": "python",
   "name": "python3"
  },
  "language_info": {
   "codemirror_mode": {
    "name": "ipython",
    "version": 3
   },
   "file_extension": ".py",
   "mimetype": "text/x-python",
   "name": "python",
   "nbconvert_exporter": "python",
   "pygments_lexer": "ipython3",
   "version": "3.7.6"
  }
 },
 "nbformat": 4,
 "nbformat_minor": 4
}
