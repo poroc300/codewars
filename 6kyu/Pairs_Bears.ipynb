{
 "cells": [
  {
   "cell_type": "markdown",
   "metadata": {},
   "source": [
    "# Problem \"Pairs of Bears\"\n",
    "level: 6kyu  \n",
    "language: Python  \n",
    "link: https://www.codewars.com/kata/pairs-of-bears/python  \n",
    "\n",
    "## Instructions\n",
    "In order to prove it's success and gain funding, the wilderness zoo needs to prove to environmentalists that it has x number \n",
    "of mating pairs of bears.\n",
    "\n",
    "You must check within string (s) to find all of the mating pairs, and return a string containing only them. Line them up for inspection.\n",
    "\n",
    "Rules: Bears are either 'B' (male) or '8' (female), Bears must be together in male/female pairs 'B8' or '8B', Mating pairs \n",
    "must involve two distinct bears each ('B8B' may look fun, but does not count as two pairs).\n",
    "\n",
    "Return an array containing a string of only the mating pairs available. e.g:\n",
    "\n",
    "'EvHB8KN8ik8BiyxfeyKBmiCMj' ---> 'B88B' (empty string if there are no pairs)\n",
    "\n",
    "and true if the number is more than or equal to x, false if not:\n",
    "\n",
    "(6, 'EvHB8KN8ik8BiyxfeyKBmiCMj') ---> ['B88B', false];\n",
    "\n",
    "x will always be a positive integer, and s will never be empty"
   ]
  },
  {
   "cell_type": "code",
   "execution_count": null,
   "metadata": {},
   "outputs": [],
   "source": [
    "import re\n",
    "def bears(x,s):\n",
    "    #find non-overlapping matches\n",
    "    string = re.findall(\"B8|8B\", s)\n",
    "    return [\"\".join(string), len(string) >= x]"
   ]
  }
 ],
 "metadata": {
  "kernelspec": {
   "display_name": "Python 3",
   "language": "python",
   "name": "python3"
  },
  "language_info": {
   "codemirror_mode": {
    "name": "ipython",
    "version": 3
   },
   "file_extension": ".py",
   "mimetype": "text/x-python",
   "name": "python",
   "nbconvert_exporter": "python",
   "pygments_lexer": "ipython3",
   "version": "3.7.6"
  }
 },
 "nbformat": 4,
 "nbformat_minor": 4
}
