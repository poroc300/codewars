{
 "cells": [
  {
   "cell_type": "markdown",
   "metadata": {},
   "source": [
    "# New Cashier Does Not Know About Space or Shift\n",
    "level: 6kyu  \n",
    "language: Python  \n",
    "link: https://www.codewars.com/kata/new-cashier-does-not-know-about-space-or-shift/train/python  \n",
    "\n",
    "## Instructions\n",
    "Some new cashiers started to work at your restaurant.\n",
    "\n",
    "They are good at taking orders, but they don't know how to capitalize words, or use a space bar!\n",
    "\n",
    "All the orders they create look something like this:\n",
    "\n",
    "\"milkshakepizzachickenfriescokeburgerpizzasandwichmilkshakepizza\"\n",
    "\n",
    "The kitchen staff are threatening to quit, because of how difficult it is to read the orders. Their preference is to get the \n",
    "orders as a nice clean string with spaces and capitals like so:\n",
    "\n",
    "\"Burger Fries Chicken Pizza Pizza Pizza Sandwich Milkshake Milkshake Coke\"\n",
    "\n",
    "The kitchen staff expect the items to be in the same order as they appear in the menu.\n",
    "The menu items are fairly simple, there is no overlap in the names of the items:\n",
    "\n",
    "1. Burger  \n",
    "2. Fries\n",
    "3. Chicken\n",
    "4. Pizza\n",
    "5. Sandwich\n",
    "6. Onionrings\n",
    "7. Milkshake\n",
    "8. Coke"
   ]
  },
  {
   "cell_type": "code",
   "execution_count": null,
   "metadata": {},
   "outputs": [],
   "source": [
    "def get_order(order):\n",
    "    menu = (\"Burger\", \"Fries\", \"Chicken\", \"Pizza\",\n",
    "            \"Sandwich\", \"Onionrings\", \"Milkshake\", \"Coke\")\n",
    "    order_clean = \"\"\n",
    "    for food in menu:\n",
    "        if food.lower() in order:\n",
    "            #multiply food by the number of times it appears in order\n",
    "            order_clean += \"{} \".format(food) * order.count(food.lower())\n",
    "    return order_clean[:-1]"
   ]
  }
 ],
 "metadata": {
  "kernelspec": {
   "display_name": "Python 3",
   "language": "python",
   "name": "python3"
  },
  "language_info": {
   "codemirror_mode": {
    "name": "ipython",
    "version": 3
   },
   "file_extension": ".py",
   "mimetype": "text/x-python",
   "name": "python",
   "nbconvert_exporter": "python",
   "pygments_lexer": "ipython3",
   "version": "3.7.6"
  }
 },
 "nbformat": 4,
 "nbformat_minor": 4
}
