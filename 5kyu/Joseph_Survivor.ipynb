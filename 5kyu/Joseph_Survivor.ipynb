{
 "cells": [
  {
   "cell_type": "markdown",
   "metadata": {},
   "source": [
    "# Josephus Survivor\n",
    "level: 5kyu  \n",
    "language: Python  \n",
    "link: https://www.codewars.com/kata/555624b601231dc7a400017a  \n",
    "\n",
    "## Instructions\n",
    "In this kata you have to correctly return who is the \"survivor\", ie: the last element of a Josephus permutation.\n",
    "\n",
    "Basically you have to assume that n people are put into a circle and that they are eliminated in steps of k elements, like this:\n",
    "\n",
    "josephus_survivor(7,3) => means 7 people in a circle;  \n",
    "one every 3 is eliminated until one remains  \n",
    "[1,2,3,4,5,6,7] - initial sequence  \n",
    "[1,2,4,5,6,7] => 3 is counted out  \n",
    "[1,2,4,5,7] => 6 is counted out  \n",
    "[1,4,5,7] => 2 is counted out  \n",
    "[1,4,5] => 7 is counted out  \n",
    "[1,4] => 5 is counted out  \n",
    "[4] => 1 counted out, 4 is the last element - the survivor!  \n",
    "\n",
    "The above link about the \"base\" kata description will give you a more thorough insight about the origin of this kind of permutation, but basically that's all that there is to know to solve this kata.\n",
    "\n",
    "Notes and tips: using the solution to the other kata to check your function may be helpful, but as much larger numbers \n",
    "will be used, using an array/list to compute the number of the survivor may be too slow; you may assume that both n \n",
    "and k will always be >=1."
   ]
  },
  {
   "cell_type": "code",
   "execution_count": null,
   "metadata": {},
   "outputs": [],
   "source": [
    "def josephus_survivor(people,step):\n",
    "    people_ls = list(range(1,people+1))\n",
    "\n",
    "    if step == 1: \n",
    "        return people #last element survives\n",
    "\n",
    "    step -= 1 #skip the element that is popped\n",
    "    index = step % len(people_ls) #start index\n",
    "    \n",
    "    while len(people_ls) > 1:\n",
    "        people_ls.pop(index)\n",
    "        index = (index + step) % len(people_ls) #determine index for next permutation\n",
    "        \n",
    "    return people_ls[0]"
   ]
  }
 ],
 "metadata": {
  "kernelspec": {
   "display_name": "Python 3",
   "language": "python",
   "name": "python3"
  },
  "language_info": {
   "codemirror_mode": {
    "name": "ipython",
    "version": 3
   },
   "file_extension": ".py",
   "mimetype": "text/x-python",
   "name": "python",
   "nbconvert_exporter": "python",
   "pygments_lexer": "ipython3",
   "version": "3.7.6"
  }
 },
 "nbformat": 4,
 "nbformat_minor": 4
}
