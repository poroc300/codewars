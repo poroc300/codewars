{
 "cells": [
  {
   "cell_type": "markdown",
   "metadata": {},
   "source": [
    "# Rot13\n",
    "level: 5kyu  \n",
    "language: Python  \n",
    "link: https://www.codewars.com/kata/530e15517bc88ac656000716/python\n",
    "\n",
    "ROT13 is a simple letter substitution cipher that replaces a letter with the letter 13 letters after it in the alphabet. ROT13 is an example of the Caesar cipher.\n",
    "\n",
    "Create a function that takes a string and returns the string ciphered with Rot13. If there are numbers or special characters included in the string, they should be returned as they are. Only letters from the latin/english alphabet should be shifted, like in the original Rot13 \"implementation\".\n",
    "\n",
    "Please note that using encode is considered cheating."
   ]
  },
  {
   "cell_type": "code",
   "execution_count": null,
   "metadata": {},
   "outputs": [],
   "source": [
    "from string import ascii_letters   \n",
    "def rot13(message):\n",
    "    # build dictionary for encoding letters\n",
    "    alphabet = ascii_letters\n",
    "    cipher = alphabet[13:26] + alphabet[:13] \\\n",
    "            + alphabet[39:] + alphabet[26:39]\n",
    "    \n",
    "    # encoding dictionary and variable to store encoded message\n",
    "    encode = {c1: c2 for c1, c2 in zip(alphabet, cipher)} \n",
    "    encoded_message = \"\" \n",
    "    \n",
    "    for c in message:\n",
    "        # encode letters\n",
    "        try:\n",
    "            encoded_message += encode[c]\n",
    "        # encode non-letters\n",
    "        except KeyError:\n",
    "            encoded_message += c \n",
    "    return encoded_message"
   ]
  }
 ],
 "metadata": {
  "kernelspec": {
   "display_name": "Python 3",
   "language": "python",
   "name": "python3"
  },
  "language_info": {
   "codemirror_mode": {
    "name": "ipython",
    "version": 3
   },
   "file_extension": ".py",
   "mimetype": "text/x-python",
   "name": "python",
   "nbconvert_exporter": "python",
   "pygments_lexer": "ipython3",
   "version": "3.7.6"
  }
 },
 "nbformat": 4,
 "nbformat_minor": 4
}
