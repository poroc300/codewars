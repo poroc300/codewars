{
 "cells": [
  {
   "cell_type": "markdown",
   "metadata": {},
   "source": [
    "# Product of consecutive Fib numbers\n",
    "level: 5kyu\n",
    "language: Python\n",
    "link: https://www.codewars.com/kata/5541f58a944b85ce6d00006a/python\n",
    "\n",
    "Instructions  \n",
    "The Fibonacci numbers are the numbers in the following integer sequence (Fn):\n",
    "\n",
    "0, 1, 1, 2, 3, 5, 8, 13, 21, 34, 55, 89, 144, 233, ...\n",
    "\n",
    "such as\n",
    "\n",
    "F(n) = F(n-1) + F(n-2) with F(0) = 0 and F(1) = 1.\n",
    "\n",
    "Given a number, say prod (for product), we search two Fibonacci numbers F(n) and F(n+1) verifying\n",
    "\n",
    "F(n) * F(n+1) = prod.\n",
    "\n",
    "Your function productFib takes an integer (prod) and returns an array:\n",
    "\n",
    "[F(n), F(n+1), true] or {F(n), F(n+1), 1} or (F(n), F(n+1), True)\n",
    "\n",
    "depending on the language if F(n) * F(n+1) = prod.\n",
    "\n",
    "If you don't find two consecutive F(m) verifying F(m) * F(m+1) = prodyou will return\n",
    "\n",
    "[F(m), F(m+1), false] or {F(n), F(n+1), 0} or (F(n), F(n+1), False)\n",
    "\n",
    "F(m) being the smallest one such as F(m) * F(m+1) > prod.\n",
    "\n",
    "Some Examples of Return:\n",
    "\n",
    "(depend on the language)\n",
    "\n",
    "productFib(714)  should return (21, 34, true),   \n",
    "                 since F(8) = 21, F(9) = 34 and 714 = 21 * 34  \n",
    "\n",
    "productFib(800)  should return (34, 55, false),   \n",
    "                 since F(8) = 21, F(9) = 34, F(10) = 55 and 21 * 34 < 800 < 34 * 55  \n",
    "\n",
    "productFib(714)  should return [21, 34, true],   \n",
    "productFib(800)  should return [34, 55, false],   \n",
    "\n",
    "productFib(714)  should return {21, 34, 1},   \n",
    "productFib(800)  should return {34, 55, 0},          \n",
    " \n",
    "productFib(714) # should return {21, 34, true},   \n",
    "productFib(800) # should return {34, 55, false},   "
   ]
  },
  {
   "cell_type": "code",
   "execution_count": null,
   "metadata": {},
   "outputs": [],
   "source": [
    "def productFib(n):\n",
    "    x, y = 0,1\n",
    "    while x*y <= n:\n",
    "        if x*y == n:\n",
    "            return [x,y,True]\n",
    "        x, y = y, x+y\n",
    "    return [x,y,False]"
   ]
  }
 ],
 "metadata": {
  "kernelspec": {
   "display_name": "Python 3",
   "language": "python",
   "name": "python3"
  },
  "language_info": {
   "codemirror_mode": {
    "name": "ipython",
    "version": 3
   },
   "file_extension": ".py",
   "mimetype": "text/x-python",
   "name": "python",
   "nbconvert_exporter": "python",
   "pygments_lexer": "ipython3",
   "version": "3.7.6"
  }
 },
 "nbformat": 4,
 "nbformat_minor": 4
}
