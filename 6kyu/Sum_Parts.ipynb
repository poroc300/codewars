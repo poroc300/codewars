{
 "cells": [
  {
   "cell_type": "markdown",
   "metadata": {},
   "source": [
    "# Sum of Parts\n",
    "level: 6kyu  \n",
    "language: Python  \n",
    "link: https://www.codewars.com/kata/5ce399e0047a45001c853c2b  \n",
    "\n",
    "Let us consider this example (array written in general format):\n",
    "ls = [0, 1, 3, 6, 10]  \n",
    "\n",
    "Its following parts:  \n",
    "ls = [0, 1, 3, 6, 10]  \n",
    "ls = [1, 3, 6, 10]  \n",
    "ls = [3, 6, 10]  \n",
    "ls = [6, 10]  \n",
    "ls = [10]  \n",
    "ls = []  \n",
    "\n",
    "The corresponding sums are (put together in a list): [20, 20, 19, 16, 10, 0]\n",
    "\n",
    "The function parts_sums (or its variants in other languages) will take as parameter a list ls and return a list of \n",
    "the sums of its parts as defined above.\n",
    "\n",
    "Other Examples:  \n",
    "ls = [1, 2, 3, 4, 5, 6]   \n",
    "parts_sums(ls) -> [21, 20, 18, 15, 11, 6, 0]\n",
    "\n",
    "ls = [744125, 935, 407, 454, 430, 90, 144, 6710213, 889, 810, 2579358]  \n",
    "parts_sums(ls) -> [10037855, 9293730, 9292795, 9292388, 9291934, 9291504, 9291414, 9291270, 2581057, 2580168, 2579358, 0]\n",
    "\n",
    "Notes  \n",
    "Some lists can be long.  \n",
    "Please ask before translating: some translations are already written and published when/if the kata is approved.\n",
    "\n"
   ]
  },
  {
   "cell_type": "code",
   "execution_count": null,
   "metadata": {},
   "outputs": [],
   "source": [
    "def parts_sums(ls):\n",
    "    out = [sum(ls)] \n",
    "    for x in ls:\n",
    "        out.append(out[-1] - x)\n",
    "    return out"
   ]
  },
  {
   "cell_type": "code",
   "execution_count": null,
   "metadata": {},
   "outputs": [],
   "source": []
  }
 ],
 "metadata": {
  "kernelspec": {
   "display_name": "Python 3",
   "language": "python",
   "name": "python3"
  },
  "language_info": {
   "codemirror_mode": {
    "name": "ipython",
    "version": 3
   },
   "file_extension": ".py",
   "mimetype": "text/x-python",
   "name": "python",
   "nbconvert_exporter": "python",
   "pygments_lexer": "ipython3",
   "version": "3.7.6"
  }
 },
 "nbformat": 4,
 "nbformat_minor": 4
}
