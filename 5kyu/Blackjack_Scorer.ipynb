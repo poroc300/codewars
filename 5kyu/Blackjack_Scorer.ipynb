{
 "cells": [
  {
   "cell_type": "markdown",
   "metadata": {},
   "source": [
    "# Blackjack Scorer\n",
    "level: 5kyu  \n",
    "language: Python  \n",
    "link: https://www.codewars.com/kata/534ffb35edb1241eda0015fe  \n",
    "\n",
    "## Instructions\n",
    "Complete the function that determines the score of a hand in the card game Blackjack (aka 21).\n",
    "\n",
    "The function receives an array of strings that represent each card in the hand (\"2\", \"3\", ..., \"10\", \"J\", \"Q\", \"K\" or \"A\") and \n",
    "should return the score of the hand (integer).\n",
    "\n",
    "Scoring rules:  \n",
    "Number cards count as their face value (2 through 10). Jack, Queen and King count as 10. An Ace can be counted as either 1 or 11.\n",
    "\n",
    "Return the highest score of the cards that is less than or equal to 21. If there is no score less than or equal to 21 return the smallest score more than 21.\n",
    "\n",
    "Examples\n",
    "[\"A\"]                           ==>  11  \n",
    "[\"A\", \"J\"]                      ==>  21  \n",
    "[\"A\", \"10\", \"A\"]                ==>  12  \n",
    "[\"5\", \"3\", \"7\"]                 ==>  15  \n",
    "[\"5\", \"4\", \"3\", \"2\", \"A\", \"K\"]  ==>  25  "
   ]
  },
  {
   "cell_type": "code",
   "execution_count": null,
   "metadata": {},
   "outputs": [],
   "source": [
    "def score_hand(cards):\n",
    "    #replace face cards by \"10\" to sort the list and put Aces in the end\n",
    "    #to better control their value\n",
    "    cards = sorted( [\"10\" if c in \"JQK\" else c for c in cards] )\n",
    "    score = 0\n",
    "    n_aces = cards.count(\"A\")    \n",
    "    for card in cards:\n",
    "        #score numbers\n",
    "        if card in \"2345678910\":\n",
    "            score += int(card)\n",
    "        #score aces\n",
    "        else:\n",
    "            #deal with multiple aces\n",
    "            if (score + 11 + (n_aces-1)) > 21:\n",
    "                score += n_aces\n",
    "            else:\n",
    "                score += 11 + (n_aces-1)\n",
    "            break\n",
    "    return score  \n",
    "    \n",
    "###more efficient solution\n",
    "#def score_hand(cards):\n",
    "#    score = sum(11 if c == \"A\" else 10 if c in \"JQK\" else int(c) for c in cards)\n",
    "#    for _ in range(cards.count(\"A\")):\n",
    "#        if score > 21:\n",
    "#            score -= 10\n",
    "#    return score"
   ]
  }
 ],
 "metadata": {
  "kernelspec": {
   "display_name": "Python 3",
   "language": "python",
   "name": "python3"
  },
  "language_info": {
   "codemirror_mode": {
    "name": "ipython",
    "version": 3
   },
   "file_extension": ".py",
   "mimetype": "text/x-python",
   "name": "python",
   "nbconvert_exporter": "python",
   "pygments_lexer": "ipython3",
   "version": "3.7.6"
  }
 },
 "nbformat": 4,
 "nbformat_minor": 4
}
