{
 "cells": [
  {
   "cell_type": "markdown",
   "metadata": {},
   "source": [
    "# Persistent Bugger\n",
    "level: 6kyu  \n",
    "language: Python  \n",
    "link: https://www.codewars.com/kata/55bf01e5a717a0d57e0000ec  \n",
    "\n",
    "## Instructions\n",
    "Write a function, persistence, that takes in a positive parameter num and returns its multiplicative persistence, \n",
    "which is the number of times you must multiply the digits in num until you reach a single digit.\n",
    "\n",
    "For example:\n",
    "\n",
    "persistence(39) => 3  # Because 3*9 = 27, 2*7 = 14, 1*4=4\n",
    "                      # and 4 has only one digit.\n",
    "\n",
    "persistence(999) => 4 # Because 9*9*9 = 729, 7*2*9 = 126,\n",
    "                      # 1*2*6 = 12, and finally 1*2 = 2.\n",
    "\n",
    "persistence(4) => 0   # Because 4 is already a one-digit number.\n",
    "persistence(39) # returns 3, because 3*9=27, 2*7=14, 1*4=4\n",
    "                # and 4 has only one digit\n",
    "\n",
    "persistence(999) # returns 4, because 9*9*9=729, 7*2*9=126,\n",
    "                  # 1*2*6=12, and finally 1*2=2\n",
    "\n",
    "persistence(4) # returns 0, because 4 is already a one-digit number"
   ]
  },
  {
   "cell_type": "code",
   "execution_count": null,
   "metadata": {},
   "outputs": [],
   "source": [
    "def persistence(n):\n",
    "    step = 0\n",
    "    while len(str(n)) > 1:\n",
    "        total = 1\n",
    "        for i in str(n):\n",
    "            total *= int(i)\n",
    "        n = total    \n",
    "        step += 1\n",
    "    return step"
   ]
  }
 ],
 "metadata": {
  "kernelspec": {
   "display_name": "Python 3",
   "language": "python",
   "name": "python3"
  },
  "language_info": {
   "codemirror_mode": {
    "name": "ipython",
    "version": 3
   },
   "file_extension": ".py",
   "mimetype": "text/x-python",
   "name": "python",
   "nbconvert_exporter": "python",
   "pygments_lexer": "ipython3",
   "version": "3.7.6"
  }
 },
 "nbformat": 4,
 "nbformat_minor": 4
}
