{
 "cells": [
  {
   "cell_type": "markdown",
   "metadata": {},
   "source": [
    "# Sum of Digits / Digital Root\n",
    "level: 6kyu\n",
    "language: Python\n",
    "link: https://www.codewars.com/kata/541c8630095125aba6000c00/python\n",
    "\n",
    "\n",
    "## Instructions\n",
    "In this kata, you must create a digital root function.\n",
    "\n",
    "A digital root is the recursive sum of all the digits in a number. Given n, take the sum of the digits of n. If that value has more than one digit, continue reducing in this way until a single-digit number is produced. This is only applicable to the natural numbers.\n",
    "\n",
    "Here's how it works:\n",
    "\n",
    "digital_root(16)  \n",
    "=> 1 + 6  \n",
    "=> 7  \n",
    "\n",
    "digital_root(942)  \n",
    "=> 9 + 4 + 2  \n",
    "=> 15 ...  \n",
    "=> 1 + 5  \n",
    "=> 6  \n",
    "\n",
    "digital_root(132189)  \n",
    "=> 1 + 3 + 2 + 1 + 8 + 9  \n",
    "=> 24 ...  \n",
    "=> 2 + 4  \n",
    "=> 6  \n",
    "\n",
    "digital_root(493193)  \n",
    "=> 4 + 9 + 3 + 1 + 9 + 3  \n",
    "=> 29 ...  \n",
    "=> 2 + 9  \n",
    "=> 11 ...  \n",
    "=> 1 + 1  \n",
    "=> 2  "
   ]
  },
  {
   "cell_type": "code",
   "execution_count": null,
   "metadata": {},
   "outputs": [],
   "source": [
    "def digital_root(n):\n",
    "    # while n has more than one digit \n",
    "    while len(str(n)) > 1:\n",
    "        num, sum_d = n, 0\n",
    "        # sum digits\n",
    "        while num:\n",
    "            sum_d += num % 10 #sum rightmost digit\n",
    "            num = num // 10 #remove rightmost digit\n",
    "        # save new number\n",
    "        n = sum_d\n",
    "    return n\n",
    "\n",
    "# def digital_root(n):\n",
    "#     # ...\n",
    "#     while n>9:\n",
    "#         n=sum(map(int,str(n)))\n",
    "#     return n"
   ]
  }
 ],
 "metadata": {
  "kernelspec": {
   "display_name": "Python 3",
   "language": "python",
   "name": "python3"
  },
  "language_info": {
   "codemirror_mode": {
    "name": "ipython",
    "version": 3
   },
   "file_extension": ".py",
   "mimetype": "text/x-python",
   "name": "python",
   "nbconvert_exporter": "python",
   "pygments_lexer": "ipython3",
   "version": "3.7.6"
  }
 },
 "nbformat": 4,
 "nbformat_minor": 4
}
