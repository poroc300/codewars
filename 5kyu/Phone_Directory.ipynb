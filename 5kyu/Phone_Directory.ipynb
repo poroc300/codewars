{
 "cells": [
  {
   "cell_type": "markdown",
   "metadata": {},
   "source": [
    "# Phone Directory\n",
    "level: 5kyu  \n",
    "language: Python  \n",
    "link: https://www.codewars.com/kata/56baeae7022c16dd7400086e  \n",
    "\n",
    "## Instructions        \n",
    "John keeps a backup of his old personal phone book as a text file. On each line of the file he can find the phone number (formated as +X-abc-def-ghij where X stands for one or two digits), the corresponding name between < and > and the address.\n",
    "\n",
    "Unfortunately everything is mixed, things are not always in the same order; parts of lines are cluttered with non-alpha-numeric characters (except inside phone number and name).\n",
    "\n",
    "Examples of John's phone book lines:\n",
    "\n",
    "\"/+1-541-754-3010 156 Alphand_St. <J Steeve>\\n\"\n",
    "\n",
    "\" 133, Green, Rd. <E Kustur> NY-56423 ;+1-541-914-3010!\\n\"\n",
    "\n",
    "\"<Anastasia> +48-421-674-8974 Via Quirinal Roma\\n\"\n",
    "\n",
    "Could you help John with a program that, given the lines of his phone book and a phone number returns a string for this number : \"Phone => num, Name => name, Address => adress\"\n",
    "\n",
    "Examples:\n",
    "\n",
    "s = \"/+1-541-754-3010 156 Alphand_St. <J Steeve>\\n 133, Green, Rd. <E Kustur> NY-56423 ;+1-541-914-3010!\\n\"\n",
    "\n",
    "phone(s, \"1-541-754-3010\") should return \"Phone => 1-541-754-3010, Name => J Steeve, Address => 156 Alphand St.\"\n",
    "    \n",
    "It can happen that, for a few phone numbers, there are many people for a phone number -say nb- , then\n",
    "\n",
    "return : \"Error => Too many people: nb\"\n",
    "\n",
    "or it can happen that the number nb is not in the phone book, in that case\n",
    "\n",
    "return: \"Error => Not found: nb\""
   ]
  },
  {
   "cell_type": "code",
   "execution_count": null,
   "metadata": {},
   "outputs": [],
   "source": [
    "def phone(dr, num):\n",
    "    #check if a number is associated with more than one people or if is not present\n",
    "    if dr.count(\"+\" + num) > 1:\n",
    "        return \"Error => Too many people: {}\".format(num)\n",
    "    elif dr.count(num) == 0:\n",
    "        return \"Error => Not found: {}\".format(num)\n",
    "    \n",
    "    #split the phone list by each line/entry \n",
    "    phone_book = dr.split(\"\\n\") \n",
    "    \n",
    "    #get the contact information correspondent to the input number\n",
    "    for entry in phone_book:\n",
    "        if (\"+\" + num) in entry:\n",
    "            contact = entry\n",
    "            break\n",
    "    \n",
    "    #get name\n",
    "    name = contact.split(\"<\")[-1].split(\">\")[0]\n",
    "    \n",
    "    #get address\n",
    "    import re\n",
    "    address = re.sub(r'[/*+\\n$_!,;:?]', \" \", contact) #replace many non-word characters by space (\".\" and \"-\" must remain)\n",
    "    \n",
    "    #remove name and num from address\n",
    "    address = address.replace(\"<\"+name+\">\", \"\").replace(num, \"\")\n",
    "    \n",
    "    #get rid of white spaces\n",
    "    ls_address = address.split()\n",
    "\n",
    "    return \"Phone => {}, Name => {}, Address => {}\".format(num, name, \" \".join(ls_address))"
   ]
  }
 ],
 "metadata": {
  "kernelspec": {
   "display_name": "Python 3",
   "language": "python",
   "name": "python3"
  },
  "language_info": {
   "codemirror_mode": {
    "name": "ipython",
    "version": 3
   },
   "file_extension": ".py",
   "mimetype": "text/x-python",
   "name": "python",
   "nbconvert_exporter": "python",
   "pygments_lexer": "ipython3",
   "version": "3.7.6"
  }
 },
 "nbformat": 4,
 "nbformat_minor": 4
}
