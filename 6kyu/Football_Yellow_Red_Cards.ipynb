{
 "cells": [
  {
   "cell_type": "markdown",
   "metadata": {},
   "source": [
    "# Football - Yellow and Red Cards\n",
    "level: 6kyu  \n",
    "language: Python  \n",
    "link: https://www.codewars.com/kata/5cde4e3f52910d00130dc92c  \n",
    "\n",
    "## Instructions\n",
    "Most football fans love it for the goals and excitement. Well, this Kata doesn't. You are to handle the referee's little \n",
    "notebook and count the players who were sent off for fouls and misbehavior.\n",
    "\n",
    "The rules: Two teams, named \"A\" and \"B\" have 11 players each; players on each team are numbered from 1 to 11. \n",
    "Any player may be sent off the field by being given a red card. A player can also receive a yellow warning card, \n",
    "which is fine, but if he receives another yellow card, he is sent off immediately (no need for a red card in that case). \n",
    "If one of the teams has less than 7 players remaining, the game is stopped immediately by the referee, and the team with less \n",
    "than 7 players loses.\n",
    "\n",
    "A card is a string with the team's letter ('A' or 'B'), player's number, and card's color ('Y' or 'R') - all \n",
    "concatenated and capitalized. e.g the card 'B7Y' means player #7 from team B received a yellow card.\n",
    "\n",
    "The task: Given a list of cards (could be empty), return the number of remaining players on each team at the \n",
    "end of the game (as a tuple of 2 integers, team \"A\" first). If the game was terminated by the referee for \n",
    "insufficient number of players, you are to stop the game immediately, and ignore any further possible cards.\n",
    "\n",
    "Note for the random tests: If a player that has already been sent off receives another card - ignore it.\n",
    "    \n",
    "        "
   ]
  },
  {
   "cell_type": "code",
   "execution_count": null,
   "metadata": {},
   "outputs": [],
   "source": [
    "def men_still_standing(cards):\n",
    "    #create dictionaries \n",
    "    teamA = {\"A\"+str(i): 0 for i in range(1,12)}\n",
    "    teamB = {\"B\"+str(i): 0 for i in range(1,12)}\n",
    "    \n",
    "    n_playersA, n_playersB = 11, 11\n",
    "    \n",
    "    for cd in cards:\n",
    "        #check team\n",
    "        if cd[0] == \"A\":\n",
    "            team = teamA\n",
    "        else:\n",
    "            team = teamB\n",
    "            \n",
    "        #do not process players already sent off\n",
    "        if team[cd[:-1]] >= 2:\n",
    "            continue\n",
    "        \n",
    "        #set score for red card or yellow card\n",
    "        score = 2 if cd[-1] == \"R\" else 1\n",
    "        \n",
    "        #update score\n",
    "        team[cd[:-1]] += score\n",
    "        \n",
    "        #exclude players if they have a score >=2\n",
    "        if team[cd[:-1]] >= 2 and cd[0] == \"A\":\n",
    "            n_playersA -= 1\n",
    "        elif team[cd[:-1]] >= 2 and cd[0] == \"B\":\n",
    "            n_playersB -= 1\n",
    "        \n",
    "        #terminate game if a team has less than 7 players\n",
    "        if n_playersA < 7 or n_playersB < 7:\n",
    "            break\n",
    "    \n",
    "    return (n_playersA, n_playersB)"
   ]
  }
 ],
 "metadata": {
  "kernelspec": {
   "display_name": "Python 3",
   "language": "python",
   "name": "python3"
  },
  "language_info": {
   "codemirror_mode": {
    "name": "ipython",
    "version": 3
   },
   "file_extension": ".py",
   "mimetype": "text/x-python",
   "name": "python",
   "nbconvert_exporter": "python",
   "pygments_lexer": "ipython3",
   "version": "3.7.6"
  }
 },
 "nbformat": 4,
 "nbformat_minor": 4
}
