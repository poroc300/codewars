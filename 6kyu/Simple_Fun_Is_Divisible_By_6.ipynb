{
 "cells": [
  {
   "cell_type": "markdown",
   "metadata": {},
   "source": [
    "# Simple Fun #258: Is Divisible By 6\n",
    "level: 6kyu  \n",
    "language: Python  \n",
    "link: https://www.codewars.com/kata/5911385598dcd432ae000004  \n",
    "\n",
    "## Instructions\n",
    "\n",
    "Task  \n",
    "A masked number is a string that consists of digits and one asterisk (*) that should be replaced by exactly one digit. Given a \n",
    "masked number s, find all the possible options to replace the asterisk with a digit to produce an integer divisible by 6.\n",
    "\n",
    "Input/Output  \n",
    "[input] string s\n",
    "\n",
    "A masked number.\n",
    "\n",
    "1 ≤ inputString.length ≤ 10000.\n",
    "\n",
    "[output] a string array\n",
    "\n",
    "Sorted array of strings representing all non-negative integers that correspond to the given mask and are divisible by 6.\n",
    "\n",
    "Example  \n",
    "For s = \"1*0\", the output should be [\"120\", \"150\", \"180\"].\n",
    "\n",
    "For s = \"*1\", the output should be [].\n",
    "\n",
    "For s = \"1234567890123456789012345678*0\",\n",
    "\n",
    "the output should be\n",
    "\n",
    "[\n",
    "\"123456789012345678901234567800\",  \n",
    "\"123456789012345678901234567830\",  \n",
    "\"123456789012345678901234567860\",  \n",
    "\"123456789012345678901234567890\"]```  \n",
    "As you can see, the masked number may be very large ;-)"
   ]
  },
  {
   "cell_type": "code",
   "execution_count": null,
   "metadata": {},
   "outputs": [],
   "source": [
    "def is_divisible_by_6(s): \n",
    "    # s is just one digit (*)\n",
    "    if s == \"*\":\n",
    "        return [\"0\", \"6\"]\n",
    "    \n",
    "    # last digit is not *\n",
    "    try:\n",
    "        last_dig = int(s[-1]) \n",
    "        \n",
    "        # number is odd, then is not divisible by 6\n",
    "        if last_dig % 2 != 0: \n",
    "            return []\n",
    "        \n",
    "        # generate all possible numbers\n",
    "        num = [int(s.replace(\"*\", str(n))) for n in range(10)]\n",
    "    \n",
    "    # last digit is *\n",
    "    except ValueError:\n",
    "        # generate all possible numbers (last digit must be even)\n",
    "        num = [int(s.replace(\"*\", str(n))) for n in range(0,9,2)]\n",
    "    \n",
    "    return [str(n) for n in num if n % 6 == 0]\n",
    "\n",
    "#def is_divisible_by_6(s):\n",
    "#    all_numbers = [ int(s.replace('*', str(n))) for n in range(10) ]\n",
    "#    return [ str(n) for n in all_numbers if n % 6 == 0 ]"
   ]
  }
 ],
 "metadata": {
  "kernelspec": {
   "display_name": "Python 3",
   "language": "python",
   "name": "python3"
  },
  "language_info": {
   "codemirror_mode": {
    "name": "ipython",
    "version": 3
   },
   "file_extension": ".py",
   "mimetype": "text/x-python",
   "name": "python",
   "nbconvert_exporter": "python",
   "pygments_lexer": "ipython3",
   "version": "3.7.6"
  }
 },
 "nbformat": 4,
 "nbformat_minor": 4
}
