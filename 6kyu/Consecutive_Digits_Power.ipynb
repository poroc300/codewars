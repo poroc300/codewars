{
 "cells": [
  {
   "cell_type": "markdown",
   "metadata": {},
   "source": [
    "# Take a Number And Sum Its Digits Raised To The Consecutive Powers And ....¡Eureka!!\n",
    "level: 6kyu  \n",
    "language: Python  \n",
    "link: https://www.codewars.com/kata/take-a-number-and-sum-its-digits-raised-to-the-consecutive-powers-and-dot-dot-dot-eureka/python\n",
    "\n",
    "# Instructions\n",
    "The number 89 is the first integer with more than one digit that fulfills the property partially introduced in the \n",
    "title of this kata. What's the use of saying \"Eureka\"? Because this sum gives the same number.\n",
    "\n",
    "In effect: 89 = 8^1 + 9^2\n",
    "\n",
    "The next number in having this property is 135.\n",
    "\n",
    "See this property again: 135 = 1^1 + 3^2 + 5^3\n",
    "\n",
    "We need a function to collect these numbers, that may receive two integers a, b that defines the range \n",
    "[a, b] (inclusive) and outputs a list of the sorted numbers in the range that fulfills the property described above.\n",
    "\n",
    "Let's see some cases:\n",
    "\n",
    "sum_dig_pow(1, 10) == [1, 2, 3, 4, 5, 6, 7, 8, 9]\n",
    "\n",
    "sum_dig_pow(1, 100) == [1, 2, 3, 4, 5, 6, 7, 8, 9, 89]\n",
    "If there are no numbers of this kind in the range [a, b] the function should output an empty list.\n",
    "\n",
    "sum_dig_pow(90, 100) == []"
   ]
  },
  {
   "cell_type": "code",
   "execution_count": null,
   "metadata": {},
   "outputs": [],
   "source": [
    "def consecutive_power(n):\n",
    "    '''\n",
    "    checks if the sum of the consecutive powers of digits in n is equal to n\n",
    "    '''\n",
    "    sum_value = sum(int(d) ** p for p,d in enumerate(str(n), start=1))\n",
    "    return sum_value == n\n",
    "\n",
    "def sum_dig_pow(n1, n2):\n",
    "    return [x for x in range(n1, n2+1) if consecutive_power(x)]"
   ]
  }
 ],
 "metadata": {
  "kernelspec": {
   "display_name": "Python 3",
   "language": "python",
   "name": "python3"
  },
  "language_info": {
   "codemirror_mode": {
    "name": "ipython",
    "version": 3
   },
   "file_extension": ".py",
   "mimetype": "text/x-python",
   "name": "python",
   "nbconvert_exporter": "python",
   "pygments_lexer": "ipython3",
   "version": "3.7.6"
  }
 },
 "nbformat": 4,
 "nbformat_minor": 4
}
