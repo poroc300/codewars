{
 "cells": [
  {
   "cell_type": "markdown",
   "metadata": {},
   "source": [
    "# Operations on sequences\n",
    "level: 5kyu  \n",
    "language: Python  \n",
    "link: https://www.codewars.com/kata/5e4bb05b698ef0001e3344bc/python\n",
    "\n",
    "## Instructions\n",
    "Let an array or a list\n",
    "\n",
    "arr = [x(1), x(2), x(3), x(4), ..., x(i), x(i+1), ..., x(m), x(m+1)]\n",
    "\n",
    "where all x(i) are positive integers. The length lg of this array will be a positive multiple of 4.\n",
    "\n",
    "Let\n",
    "\n",
    "P = (x(1) ** 2 + x(2) ** 2) * (x(3) ** 2 + x(4) ** 2) * ... * (x(m) ** 2 + x(m+1) ** 2),\n",
    "\n",
    "x ** y means x raised to the power y.\n",
    "\n",
    "Task  \n",
    "Given an array or list arr the task is to find:\n",
    "\n",
    "two nonnegative integers A and B such as P = A ** 2 + B ** 2 (1).  \n",
    "The function solve(arr) returns an array or a list [A, B] where A and B verify (1).\n",
    "\n",
    "Examples:  \n",
    "solve([2, 1, 3, 4]) returns [2, 11] :  \n",
    "(2*2 + 1*1) * (3*3 + 4*4) = 5 * 25 = 125 and 2 * 2 + 11 * 11 = 125\n",
    "\n",
    "solve([2, 1, 3, 4, 2, 2, 1, 5, 2, 3, 4, 5]) returns [2344, 2892] :  \n",
    "(2*2 + 1*1) * (3*3 + 4*4) * (2*2 + 2*2) * (1*1 + 5*5) * (2*2 + 3*3) * (4*4 + 5*5) = 13858000  \n",
    "and 2344 * 2344 + 2892 * 2892 = 13858000\n",
    "\n",
    "Notes  \n",
    "The decomposition into A ** 2 + B ** 2 is not unique: the testing function checks if (1) is verified.\n",
    "solve([21, 24, 15, 22, 1, 2]) can return [639, 1788] or [1431, 1248]; both return are correct.  \n",
    "P is     3605265  \n",
    "A*A+B*B  3605265  \n",
    "Lengths of lists are less than 100 and elements of lists less than 25  "
   ]
  },
  {
   "cell_type": "code",
   "execution_count": null,
   "metadata": {},
   "outputs": [],
   "source": [
    "### my solution does not solve the problem within the allowed amount of time (12 s)\n",
    "import numpy as np\n",
    "def solve(arr):\n",
    "    array = np.array(arr, dtype=\"uint64\")\n",
    "    # multiply elements by themselves\n",
    "    array = np.multiply(array, array)\n",
    "    # sum two consecutive elements\n",
    "    array = np.add.reduceat(array, range(0, len(array), 2))\n",
    "    # multiply all elements among themselves\n",
    "    n = int(np.multiply.reduce(array))\n",
    "    \n",
    "    # search sqrt(n) until half of this value\n",
    "    start = int(n**0.5)\n",
    "    end =  int(start/2)\n",
    "    for n2 in range(start, end, -1):\n",
    "        sq_n1 = n - n2**2 # e.g. 125 - 11**2 = 4\n",
    "        if sq_n1 ** 0.5 % 1 == 0: # check there is not remainder\n",
    "            n1 = int(sq_n1**0.5)\n",
    "            return [n1, n2]\n",
    "    return [0,0]\n",
    "\n",
    "#efficient solution from other user\n",
    "def solve(arr):\n",
    "    a, b, c, d = arr[0:4]\n",
    "    #print(a, b, c, d)\n",
    "    #print(arr[4:])\n",
    "    first4 = [abs(a*c - b*d), (a*d+b*c)]\n",
    "    #print(first4)\n",
    "    if len(arr) == 4:\n",
    "        return first4\n",
    "    return solve(first4 + arr[4:])"
   ]
  }
 ],
 "metadata": {
  "kernelspec": {
   "display_name": "Python 3",
   "language": "python",
   "name": "python3"
  },
  "language_info": {
   "codemirror_mode": {
    "name": "ipython",
    "version": 3
   },
   "file_extension": ".py",
   "mimetype": "text/x-python",
   "name": "python",
   "nbconvert_exporter": "python",
   "pygments_lexer": "ipython3",
   "version": "3.7.6"
  }
 },
 "nbformat": 4,
 "nbformat_minor": 4
}
