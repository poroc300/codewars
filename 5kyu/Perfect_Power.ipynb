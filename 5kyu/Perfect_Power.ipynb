{
 "cells": [
  {
   "cell_type": "markdown",
   "metadata": {},
   "source": [
    "# What's a Perfect Power anyway?\n",
    "level: 5kyu  \n",
    "language: Python  \n",
    "link: https://www.codewars.com/kata/54d4c8b08776e4ad92000835  \n",
    "\n",
    "## Instructions\n",
    "A perfect power is a classification of positive integers:\n",
    "\n",
    "In mathematics, a perfect power is a positive integer that can be expressed as an integer power of \n",
    "another positive integer. More formally, n is a perfect power if there exist natural numbers m > 1, and k > 1 such that mk = n.\n",
    "\n",
    "Your task is to check wheter a given integer is a perfect power. If it is a perfect power, \n",
    "return a pair m and k with mk = n as a proof. Otherwise return Nothing, Nil, null, NULL, None or your language's equivalent.\n",
    "\n",
    "Note: For a perfect power, there might be several pairs. For example 81 = 3^4 = 9^2, so (3,4) and (9,2) are valid solutions. However, the tests take care of this, so if a number is a perfect power, return any pair that proves it.\n",
    "\n",
    "Examples  \n",
    "isPP(4) => [2,2]  \n",
    "isPP(9) => [3,2]  \n",
    "isPP(5) => None  "
   ]
  },
  {
   "cell_type": "code",
   "execution_count": null,
   "metadata": {},
   "outputs": [],
   "source": [
    "from math import*\n",
    "def isPP(n):\n",
    "    #the sqrt(n) is the maximum number that can be in the range\n",
    "    for m in range(2, int(sqrt(n)) + 1):\n",
    "        k = int(round(log(n, m)))\n",
    "        if m ** k == n:\n",
    "            return [m, k]\n",
    "    return None"
   ]
  }
 ],
 "metadata": {
  "kernelspec": {
   "display_name": "Python 3",
   "language": "python",
   "name": "python3"
  },
  "language_info": {
   "codemirror_mode": {
    "name": "ipython",
    "version": 3
   },
   "file_extension": ".py",
   "mimetype": "text/x-python",
   "name": "python",
   "nbconvert_exporter": "python",
   "pygments_lexer": "ipython3",
   "version": "3.7.6"
  }
 },
 "nbformat": 4,
 "nbformat_minor": 4
}
