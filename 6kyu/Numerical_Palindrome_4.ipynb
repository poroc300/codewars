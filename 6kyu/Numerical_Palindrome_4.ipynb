{
 "cells": [
  {
   "cell_type": "markdown",
   "metadata": {},
   "source": [
    "# Numerical Palindrome 4\n",
    "level: 6kyu  \n",
    "language: Python  \n",
    "link: https://www.codewars.com/kata/numerical-palindrome-number-4/python  \n",
    "\n",
    "## Instructions\n",
    "A palindrome is a word, phrase, number, or other sequence of characters which reads the same backward as forward. Examples of \n",
    "numerical palindromes are:\n",
    "\n",
    "2332\n",
    "110011\n",
    "54322345\n",
    "\n",
    "For a given number num, return its closest numerical palindrome which can either be smaller or larger than num. If there are \n",
    "2 possible values, the larger value should be returned. If num is a numerical palindrome itself, return it.\n",
    "\n",
    "For this kata, single digit numbers will NOT be considered numerical palindromes.\n",
    "\n",
    "Also, you know the drill - be sure to return \"Not valid\" if the input is not an integer or is less than 0.\n",
    "\n",
    "palindrome(8) => 11  \n",
    "palindrome(281) => 282   \n",
    "palindrome(1029) => 1001   \n",
    "palindrome(1221) => 1221   \n",
    "palindrome(\"1221\") => \"Not valid\"  "
   ]
  },
  {
   "cell_type": "code",
   "execution_count": null,
   "metadata": {},
   "outputs": [],
   "source": [
    "def isPal(num):\n",
    "    '''\n",
    "    checks if a number is a palindrome\n",
    "    '''\n",
    "    return n > 10 and n == int(str(n)[::-1]) \n",
    "\n",
    "def palindrome(num):\n",
    "    #if negative or not integer\n",
    "    if not isinstance(num, int) or num < 0:\n",
    "        return \"Not valid\"    \n",
    "    \n",
    "    num1, num2 = num, num\n",
    "    \n",
    "    # closest number that is palindrome\n",
    "    while True:\n",
    "        if isPal(num1) and isPal(num2) or isPal(num1):\n",
    "            return num1\n",
    "        elif isPal(num2):\n",
    "            return num2\n",
    "        \n",
    "        # check next numbers\n",
    "        num1 += 1\n",
    "        num2 -= 1 "
   ]
  }
 ],
 "metadata": {
  "kernelspec": {
   "display_name": "Python 3",
   "language": "python",
   "name": "python3"
  },
  "language_info": {
   "codemirror_mode": {
    "name": "ipython",
    "version": 3
   },
   "file_extension": ".py",
   "mimetype": "text/x-python",
   "name": "python",
   "nbconvert_exporter": "python",
   "pygments_lexer": "ipython3",
   "version": "3.7.6"
  }
 },
 "nbformat": 4,
 "nbformat_minor": 4
}
