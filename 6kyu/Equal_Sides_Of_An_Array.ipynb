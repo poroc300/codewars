{
 "cells": [
  {
   "cell_type": "markdown",
   "metadata": {},
   "source": [
    "# Equal Sides of an Array\n",
    "level: 6kyu  \n",
    "language: Python  \n",
    "link: https://www.codewars.com/kata/5679aa472b8f57fb8c000047  \n",
    "\n",
    "## Instructions\n",
    "You are going to be given an array of integers. Your job is to take that array and find an index N where the sum \n",
    "of the integers to the left of N is equal to the sum of the integers to the right of N. If there is no index that would \n",
    "make this happen, return -1.\n",
    "\n",
    "For example:\n",
    "\n",
    "Let's say you are given the array {1,2,3,4,3,2,1}:\n",
    "- Your function will return the index 3, because at the 3rd position of the array, the sum of left side of the index \n",
    "({1,2,3}) and the sum of the right side of the index ({3,2,1}) both equal 6.\n",
    "\n",
    "Let's look at another one.\n",
    "You are given the array {1,100,50,-51,1,1}:\n",
    "- Your function will return the index 1, because at the 1st position of the array, the sum of left side of the index ({1}) and the sum of the right side of the index ({50,-51,1,1}) both equal 1.\n",
    "\n",
    "Last one:\n",
    "- You are given the array {20,10,-80,10,10,15,35}\n",
    "- At index 0 the left side is {}\n",
    "- The right side is {10,-80,10,10,15,35}\n",
    "- They both are equal to 0 when added. (Empty arrays are equal to 0 in this problem)\n",
    "- Index 0 is the place where the left side and right side are equal.\n",
    "\n",
    "Note: Please remember that in most programming/scripting languages the index of an array starts at 0.\n",
    "\n",
    "Input:  \n",
    "n integer array of length 0 < arr < 1000. The numbers in the array can be any integer positive or negative.\n",
    "\n",
    "Output:  \n",
    "The lowest index N where the side to the left of N is equal to the side to the right of N. If you do not find an index that fits these rules, then you will return -1.\n",
    "\n",
    "Note: \n",
    "If you are given an array with multiple answers, return the lowest correct index."
   ]
  },
  {
   "cell_type": "code",
   "execution_count": null,
   "metadata": {},
   "outputs": [],
   "source": [
    "def find_even_index(arr):\n",
    "    # sums on left and right sides\n",
    "    left, right = 0, sum(arr)\n",
    "    # iterate over each index\n",
    "    for idx, n in enumerate(arr):\n",
    "        right -= n #subtract current number being evaluated \n",
    "        if left == right:\n",
    "            return idx\n",
    "        left += n #add number to left part for next iteration\n",
    "    return -1\n",
    "\n",
    "# def find_even_index(arr):\n",
    "#     for index in range(len(arr)):\n",
    "#         if sum(arr[:index]) == sum(arr[index+1:]):\n",
    "#             return index\n",
    "#     return -1    "
   ]
  }
 ],
 "metadata": {
  "kernelspec": {
   "display_name": "Python 3",
   "language": "python",
   "name": "python3"
  },
  "language_info": {
   "codemirror_mode": {
    "name": "ipython",
    "version": 3
   },
   "file_extension": ".py",
   "mimetype": "text/x-python",
   "name": "python",
   "nbconvert_exporter": "python",
   "pygments_lexer": "ipython3",
   "version": "3.7.6"
  }
 },
 "nbformat": 4,
 "nbformat_minor": 4
}
