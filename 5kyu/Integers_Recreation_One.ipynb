{
 "cells": [
  {
   "cell_type": "markdown",
   "metadata": {},
   "source": [
    "# Integers: Recreation One\n",
    "level: 5kyu  \n",
    "language: Python  \n",
    "link: https://www.codewars.com/kata/integers-recreation-one/python  \n",
    "\n",
    "## Instructions\n",
    "Divisors of 42 are : 1, 2, 3, 6, 7, 14, 21, 42. These divisors squared are: 1, 4, 9, 36, 49, 196, 441, 1764. The sum of the squared divisors is 2500 which is 50 * 50, a square!\n",
    "\n",
    "Given two integers m, n (1 <= m <= n) we want to find all integers between m and n whose sum of squared divisors is itself a square. 42 is such a number.\n",
    "\n",
    "The result will be an array of arrays or of tuples (in C an array of Pair) or a string, each subarray having two elements, first the number whose squared divisors is a square and then the sum of the squared divisors.\n",
    "\n",
    "Examples:\n",
    "\n",
    "list_squared(1, 250) --> [[1, 1], [42, 2500], [246, 84100]]\n",
    "\n",
    "list_squared(42, 250) --> [[42, 2500], [246, 84100]]"
   ]
  },
  {
   "cell_type": "code",
   "execution_count": null,
   "metadata": {},
   "outputs": [],
   "source": [
    "from functools import reduce\n",
    "import numpy as np\n",
    "def divisors_sum(n):\n",
    "    '''\n",
    "    returns the sum of the squares of all possible divisors of a integer\n",
    "    '''\n",
    "    if n%2 == 0:\n",
    "        step = 1\n",
    "    else:\n",
    "        step = 2\n",
    "    #calculate divisors\n",
    "    temp = [[m, n//m] for m in range(1,int(n**0.5)+1, step) if n%m==0] \n",
    "    divs = list(set(reduce(list.__add__, temp)))\n",
    "    return np.sum(np.array(divs)**2)\n",
    "\n",
    "def list_squared(start, end):\n",
    "    output = []\n",
    "    for n in range(start, end+1):\n",
    "        sum_val = divisors_sum(n)\n",
    "        #check if perfect square\n",
    "        if sum_val**0.5 % 1 == 0:\n",
    "            output.append([n, sum_val])\n",
    "    return output"
   ]
  }
 ],
 "metadata": {
  "kernelspec": {
   "display_name": "Python 3",
   "language": "python",
   "name": "python3"
  },
  "language_info": {
   "codemirror_mode": {
    "name": "ipython",
    "version": 3
   },
   "file_extension": ".py",
   "mimetype": "text/x-python",
   "name": "python",
   "nbconvert_exporter": "python",
   "pygments_lexer": "ipython3",
   "version": "3.7.6"
  }
 },
 "nbformat": 4,
 "nbformat_minor": 4
}
